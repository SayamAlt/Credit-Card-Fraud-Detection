{
 "cells": [
  {
   "cell_type": "code",
   "execution_count": 1,
   "id": "423e7ebe",
   "metadata": {},
   "outputs": [],
   "source": [
    "import numpy as np\n",
    "import pandas as pd\n",
    "import seaborn as sns\n",
    "import matplotlib.pyplot as plt\n",
    "%matplotlib inline\n",
    "import warnings\n",
    "warnings.filterwarnings('ignore')\n",
    "from sklearn.preprocessing import LabelEncoder\n",
    "from sklearn.tree import DecisionTreeClassifier\n",
    "from sklearn.model_selection import train_test_split\n",
    "from imblearn.over_sampling import RandomOverSampler\n",
    "from sklearn import metrics\n",
    "import joblib"
   ]
  },
  {
   "cell_type": "code",
   "execution_count": 2,
   "id": "3a91dfc2",
   "metadata": {},
   "outputs": [],
   "source": [
    "pd.set_option('display.float_format', lambda x: '%.3f' % x)\n",
    "plt.rcParams['figure.figsize'] = (12,8)"
   ]
  },
  {
   "cell_type": "code",
   "execution_count": 3,
   "id": "e2925721",
   "metadata": {},
   "outputs": [
    {
     "data": {
      "text/html": [
       "<div>\n",
       "<style scoped>\n",
       "    .dataframe tbody tr th:only-of-type {\n",
       "        vertical-align: middle;\n",
       "    }\n",
       "\n",
       "    .dataframe tbody tr th {\n",
       "        vertical-align: top;\n",
       "    }\n",
       "\n",
       "    .dataframe thead th {\n",
       "        text-align: right;\n",
       "    }\n",
       "</style>\n",
       "<table border=\"1\" class=\"dataframe\">\n",
       "  <thead>\n",
       "    <tr style=\"text-align: right;\">\n",
       "      <th></th>\n",
       "      <th>Unnamed: 0</th>\n",
       "      <th>trans_date_trans_time</th>\n",
       "      <th>cc_num</th>\n",
       "      <th>merchant</th>\n",
       "      <th>category</th>\n",
       "      <th>amt</th>\n",
       "      <th>first</th>\n",
       "      <th>last</th>\n",
       "      <th>gender</th>\n",
       "      <th>street</th>\n",
       "      <th>...</th>\n",
       "      <th>lat</th>\n",
       "      <th>long</th>\n",
       "      <th>city_pop</th>\n",
       "      <th>job</th>\n",
       "      <th>dob</th>\n",
       "      <th>trans_num</th>\n",
       "      <th>unix_time</th>\n",
       "      <th>merch_lat</th>\n",
       "      <th>merch_long</th>\n",
       "      <th>is_fraud</th>\n",
       "    </tr>\n",
       "  </thead>\n",
       "  <tbody>\n",
       "    <tr>\n",
       "      <th>0</th>\n",
       "      <td>0</td>\n",
       "      <td>2019-01-01 00:00:18</td>\n",
       "      <td>2703186189652095</td>\n",
       "      <td>fraud_Rippin, Kub and Mann</td>\n",
       "      <td>misc_net</td>\n",
       "      <td>4.970</td>\n",
       "      <td>Jennifer</td>\n",
       "      <td>Banks</td>\n",
       "      <td>F</td>\n",
       "      <td>561 Perry Cove</td>\n",
       "      <td>...</td>\n",
       "      <td>36.079</td>\n",
       "      <td>-81.178</td>\n",
       "      <td>3495</td>\n",
       "      <td>Psychologist, counselling</td>\n",
       "      <td>1988-03-09</td>\n",
       "      <td>0b242abb623afc578575680df30655b9</td>\n",
       "      <td>1325376018</td>\n",
       "      <td>36.011</td>\n",
       "      <td>-82.048</td>\n",
       "      <td>0</td>\n",
       "    </tr>\n",
       "    <tr>\n",
       "      <th>1</th>\n",
       "      <td>1</td>\n",
       "      <td>2019-01-01 00:00:44</td>\n",
       "      <td>630423337322</td>\n",
       "      <td>fraud_Heller, Gutmann and Zieme</td>\n",
       "      <td>grocery_pos</td>\n",
       "      <td>107.230</td>\n",
       "      <td>Stephanie</td>\n",
       "      <td>Gill</td>\n",
       "      <td>F</td>\n",
       "      <td>43039 Riley Greens Suite 393</td>\n",
       "      <td>...</td>\n",
       "      <td>48.888</td>\n",
       "      <td>-118.210</td>\n",
       "      <td>149</td>\n",
       "      <td>Special educational needs teacher</td>\n",
       "      <td>1978-06-21</td>\n",
       "      <td>1f76529f8574734946361c461b024d99</td>\n",
       "      <td>1325376044</td>\n",
       "      <td>49.159</td>\n",
       "      <td>-118.186</td>\n",
       "      <td>0</td>\n",
       "    </tr>\n",
       "    <tr>\n",
       "      <th>2</th>\n",
       "      <td>2</td>\n",
       "      <td>2019-01-01 00:00:51</td>\n",
       "      <td>38859492057661</td>\n",
       "      <td>fraud_Lind-Buckridge</td>\n",
       "      <td>entertainment</td>\n",
       "      <td>220.110</td>\n",
       "      <td>Edward</td>\n",
       "      <td>Sanchez</td>\n",
       "      <td>M</td>\n",
       "      <td>594 White Dale Suite 530</td>\n",
       "      <td>...</td>\n",
       "      <td>42.181</td>\n",
       "      <td>-112.262</td>\n",
       "      <td>4154</td>\n",
       "      <td>Nature conservation officer</td>\n",
       "      <td>1962-01-19</td>\n",
       "      <td>a1a22d70485983eac12b5b88dad1cf95</td>\n",
       "      <td>1325376051</td>\n",
       "      <td>43.151</td>\n",
       "      <td>-112.154</td>\n",
       "      <td>0</td>\n",
       "    </tr>\n",
       "    <tr>\n",
       "      <th>3</th>\n",
       "      <td>3</td>\n",
       "      <td>2019-01-01 00:01:16</td>\n",
       "      <td>3534093764340240</td>\n",
       "      <td>fraud_Kutch, Hermiston and Farrell</td>\n",
       "      <td>gas_transport</td>\n",
       "      <td>45.000</td>\n",
       "      <td>Jeremy</td>\n",
       "      <td>White</td>\n",
       "      <td>M</td>\n",
       "      <td>9443 Cynthia Court Apt. 038</td>\n",
       "      <td>...</td>\n",
       "      <td>46.231</td>\n",
       "      <td>-112.114</td>\n",
       "      <td>1939</td>\n",
       "      <td>Patent attorney</td>\n",
       "      <td>1967-01-12</td>\n",
       "      <td>6b849c168bdad6f867558c3793159a81</td>\n",
       "      <td>1325376076</td>\n",
       "      <td>47.034</td>\n",
       "      <td>-112.561</td>\n",
       "      <td>0</td>\n",
       "    </tr>\n",
       "    <tr>\n",
       "      <th>4</th>\n",
       "      <td>4</td>\n",
       "      <td>2019-01-01 00:03:06</td>\n",
       "      <td>375534208663984</td>\n",
       "      <td>fraud_Keeling-Crist</td>\n",
       "      <td>misc_pos</td>\n",
       "      <td>41.960</td>\n",
       "      <td>Tyler</td>\n",
       "      <td>Garcia</td>\n",
       "      <td>M</td>\n",
       "      <td>408 Bradley Rest</td>\n",
       "      <td>...</td>\n",
       "      <td>38.421</td>\n",
       "      <td>-79.463</td>\n",
       "      <td>99</td>\n",
       "      <td>Dance movement psychotherapist</td>\n",
       "      <td>1986-03-28</td>\n",
       "      <td>a41d7549acf90789359a9aa5346dcb46</td>\n",
       "      <td>1325376186</td>\n",
       "      <td>38.675</td>\n",
       "      <td>-78.632</td>\n",
       "      <td>0</td>\n",
       "    </tr>\n",
       "  </tbody>\n",
       "</table>\n",
       "<p>5 rows × 23 columns</p>\n",
       "</div>"
      ],
      "text/plain": [
       "   Unnamed: 0 trans_date_trans_time            cc_num  \\\n",
       "0           0   2019-01-01 00:00:18  2703186189652095   \n",
       "1           1   2019-01-01 00:00:44      630423337322   \n",
       "2           2   2019-01-01 00:00:51    38859492057661   \n",
       "3           3   2019-01-01 00:01:16  3534093764340240   \n",
       "4           4   2019-01-01 00:03:06   375534208663984   \n",
       "\n",
       "                             merchant       category     amt      first  \\\n",
       "0          fraud_Rippin, Kub and Mann       misc_net   4.970   Jennifer   \n",
       "1     fraud_Heller, Gutmann and Zieme    grocery_pos 107.230  Stephanie   \n",
       "2                fraud_Lind-Buckridge  entertainment 220.110     Edward   \n",
       "3  fraud_Kutch, Hermiston and Farrell  gas_transport  45.000     Jeremy   \n",
       "4                 fraud_Keeling-Crist       misc_pos  41.960      Tyler   \n",
       "\n",
       "      last gender                        street  ...    lat     long  \\\n",
       "0    Banks      F                561 Perry Cove  ... 36.079  -81.178   \n",
       "1     Gill      F  43039 Riley Greens Suite 393  ... 48.888 -118.210   \n",
       "2  Sanchez      M      594 White Dale Suite 530  ... 42.181 -112.262   \n",
       "3    White      M   9443 Cynthia Court Apt. 038  ... 46.231 -112.114   \n",
       "4   Garcia      M              408 Bradley Rest  ... 38.421  -79.463   \n",
       "\n",
       "   city_pop                                job         dob  \\\n",
       "0      3495          Psychologist, counselling  1988-03-09   \n",
       "1       149  Special educational needs teacher  1978-06-21   \n",
       "2      4154        Nature conservation officer  1962-01-19   \n",
       "3      1939                    Patent attorney  1967-01-12   \n",
       "4        99     Dance movement psychotherapist  1986-03-28   \n",
       "\n",
       "                          trans_num   unix_time merch_lat merch_long  is_fraud  \n",
       "0  0b242abb623afc578575680df30655b9  1325376018    36.011    -82.048         0  \n",
       "1  1f76529f8574734946361c461b024d99  1325376044    49.159   -118.186         0  \n",
       "2  a1a22d70485983eac12b5b88dad1cf95  1325376051    43.151   -112.154         0  \n",
       "3  6b849c168bdad6f867558c3793159a81  1325376076    47.034   -112.561         0  \n",
       "4  a41d7549acf90789359a9aa5346dcb46  1325376186    38.675    -78.632         0  \n",
       "\n",
       "[5 rows x 23 columns]"
      ]
     },
     "execution_count": 3,
     "metadata": {},
     "output_type": "execute_result"
    }
   ],
   "source": [
    "train = pd.read_csv('fraudTrain.csv')\n",
    "train.head()"
   ]
  },
  {
   "cell_type": "code",
   "execution_count": 4,
   "id": "3d5f7890",
   "metadata": {},
   "outputs": [],
   "source": [
    "train.drop('Unnamed: 0',axis=1,inplace=True)"
   ]
  },
  {
   "cell_type": "code",
   "execution_count": 5,
   "id": "77bf65f5",
   "metadata": {},
   "outputs": [
    {
     "data": {
      "text/plain": [
       "(1296675, 22)"
      ]
     },
     "execution_count": 5,
     "metadata": {},
     "output_type": "execute_result"
    }
   ],
   "source": [
    "train.shape"
   ]
  },
  {
   "cell_type": "code",
   "execution_count": 6,
   "id": "e288406e",
   "metadata": {},
   "outputs": [
    {
     "name": "stdout",
     "output_type": "stream",
     "text": [
      "<class 'pandas.core.frame.DataFrame'>\n",
      "RangeIndex: 1296675 entries, 0 to 1296674\n",
      "Data columns (total 22 columns):\n",
      " #   Column                 Non-Null Count    Dtype  \n",
      "---  ------                 --------------    -----  \n",
      " 0   trans_date_trans_time  1296675 non-null  object \n",
      " 1   cc_num                 1296675 non-null  int64  \n",
      " 2   merchant               1296675 non-null  object \n",
      " 3   category               1296675 non-null  object \n",
      " 4   amt                    1296675 non-null  float64\n",
      " 5   first                  1296675 non-null  object \n",
      " 6   last                   1296675 non-null  object \n",
      " 7   gender                 1296675 non-null  object \n",
      " 8   street                 1296675 non-null  object \n",
      " 9   city                   1296675 non-null  object \n",
      " 10  state                  1296675 non-null  object \n",
      " 11  zip                    1296675 non-null  int64  \n",
      " 12  lat                    1296675 non-null  float64\n",
      " 13  long                   1296675 non-null  float64\n",
      " 14  city_pop               1296675 non-null  int64  \n",
      " 15  job                    1296675 non-null  object \n",
      " 16  dob                    1296675 non-null  object \n",
      " 17  trans_num              1296675 non-null  object \n",
      " 18  unix_time              1296675 non-null  int64  \n",
      " 19  merch_lat              1296675 non-null  float64\n",
      " 20  merch_long             1296675 non-null  float64\n",
      " 21  is_fraud               1296675 non-null  int64  \n",
      "dtypes: float64(5), int64(5), object(12)\n",
      "memory usage: 217.6+ MB\n"
     ]
    }
   ],
   "source": [
    "train.info()"
   ]
  },
  {
   "cell_type": "code",
   "execution_count": 7,
   "id": "ce15a57c",
   "metadata": {},
   "outputs": [
    {
     "data": {
      "text/html": [
       "<div>\n",
       "<style scoped>\n",
       "    .dataframe tbody tr th:only-of-type {\n",
       "        vertical-align: middle;\n",
       "    }\n",
       "\n",
       "    .dataframe tbody tr th {\n",
       "        vertical-align: top;\n",
       "    }\n",
       "\n",
       "    .dataframe thead th {\n",
       "        text-align: right;\n",
       "    }\n",
       "</style>\n",
       "<table border=\"1\" class=\"dataframe\">\n",
       "  <thead>\n",
       "    <tr style=\"text-align: right;\">\n",
       "      <th></th>\n",
       "      <th>cc_num</th>\n",
       "      <th>amt</th>\n",
       "      <th>zip</th>\n",
       "      <th>lat</th>\n",
       "      <th>long</th>\n",
       "      <th>city_pop</th>\n",
       "      <th>unix_time</th>\n",
       "      <th>merch_lat</th>\n",
       "      <th>merch_long</th>\n",
       "      <th>is_fraud</th>\n",
       "    </tr>\n",
       "  </thead>\n",
       "  <tbody>\n",
       "    <tr>\n",
       "      <th>count</th>\n",
       "      <td>1296675.000</td>\n",
       "      <td>1296675.000</td>\n",
       "      <td>1296675.000</td>\n",
       "      <td>1296675.000</td>\n",
       "      <td>1296675.000</td>\n",
       "      <td>1296675.000</td>\n",
       "      <td>1296675.000</td>\n",
       "      <td>1296675.000</td>\n",
       "      <td>1296675.000</td>\n",
       "      <td>1296675.000</td>\n",
       "    </tr>\n",
       "    <tr>\n",
       "      <th>mean</th>\n",
       "      <td>417192042079641088.000</td>\n",
       "      <td>70.351</td>\n",
       "      <td>48800.671</td>\n",
       "      <td>38.538</td>\n",
       "      <td>-90.226</td>\n",
       "      <td>88824.441</td>\n",
       "      <td>1349243636.726</td>\n",
       "      <td>38.537</td>\n",
       "      <td>-90.226</td>\n",
       "      <td>0.006</td>\n",
       "    </tr>\n",
       "    <tr>\n",
       "      <th>std</th>\n",
       "      <td>1308806447000789248.000</td>\n",
       "      <td>160.316</td>\n",
       "      <td>26893.222</td>\n",
       "      <td>5.076</td>\n",
       "      <td>13.759</td>\n",
       "      <td>301956.361</td>\n",
       "      <td>12841278.423</td>\n",
       "      <td>5.110</td>\n",
       "      <td>13.771</td>\n",
       "      <td>0.076</td>\n",
       "    </tr>\n",
       "    <tr>\n",
       "      <th>min</th>\n",
       "      <td>60416207185.000</td>\n",
       "      <td>1.000</td>\n",
       "      <td>1257.000</td>\n",
       "      <td>20.027</td>\n",
       "      <td>-165.672</td>\n",
       "      <td>23.000</td>\n",
       "      <td>1325376018.000</td>\n",
       "      <td>19.028</td>\n",
       "      <td>-166.671</td>\n",
       "      <td>0.000</td>\n",
       "    </tr>\n",
       "    <tr>\n",
       "      <th>25%</th>\n",
       "      <td>180042946491150.000</td>\n",
       "      <td>9.650</td>\n",
       "      <td>26237.000</td>\n",
       "      <td>34.620</td>\n",
       "      <td>-96.798</td>\n",
       "      <td>743.000</td>\n",
       "      <td>1338750742.500</td>\n",
       "      <td>34.734</td>\n",
       "      <td>-96.897</td>\n",
       "      <td>0.000</td>\n",
       "    </tr>\n",
       "    <tr>\n",
       "      <th>50%</th>\n",
       "      <td>3521417320836166.000</td>\n",
       "      <td>47.520</td>\n",
       "      <td>48174.000</td>\n",
       "      <td>39.354</td>\n",
       "      <td>-87.477</td>\n",
       "      <td>2456.000</td>\n",
       "      <td>1349249747.000</td>\n",
       "      <td>39.366</td>\n",
       "      <td>-87.438</td>\n",
       "      <td>0.000</td>\n",
       "    </tr>\n",
       "    <tr>\n",
       "      <th>75%</th>\n",
       "      <td>4642255475285942.000</td>\n",
       "      <td>83.140</td>\n",
       "      <td>72042.000</td>\n",
       "      <td>41.940</td>\n",
       "      <td>-80.158</td>\n",
       "      <td>20328.000</td>\n",
       "      <td>1359385375.500</td>\n",
       "      <td>41.957</td>\n",
       "      <td>-80.237</td>\n",
       "      <td>0.000</td>\n",
       "    </tr>\n",
       "    <tr>\n",
       "      <th>max</th>\n",
       "      <td>4992346398065154048.000</td>\n",
       "      <td>28948.900</td>\n",
       "      <td>99783.000</td>\n",
       "      <td>66.693</td>\n",
       "      <td>-67.950</td>\n",
       "      <td>2906700.000</td>\n",
       "      <td>1371816817.000</td>\n",
       "      <td>67.510</td>\n",
       "      <td>-66.951</td>\n",
       "      <td>1.000</td>\n",
       "    </tr>\n",
       "  </tbody>\n",
       "</table>\n",
       "</div>"
      ],
      "text/plain": [
       "                       cc_num         amt         zip         lat        long  \\\n",
       "count             1296675.000 1296675.000 1296675.000 1296675.000 1296675.000   \n",
       "mean   417192042079641088.000      70.351   48800.671      38.538     -90.226   \n",
       "std   1308806447000789248.000     160.316   26893.222       5.076      13.759   \n",
       "min           60416207185.000       1.000    1257.000      20.027    -165.672   \n",
       "25%       180042946491150.000       9.650   26237.000      34.620     -96.798   \n",
       "50%      3521417320836166.000      47.520   48174.000      39.354     -87.477   \n",
       "75%      4642255475285942.000      83.140   72042.000      41.940     -80.158   \n",
       "max   4992346398065154048.000   28948.900   99783.000      66.693     -67.950   \n",
       "\n",
       "         city_pop      unix_time   merch_lat  merch_long    is_fraud  \n",
       "count 1296675.000    1296675.000 1296675.000 1296675.000 1296675.000  \n",
       "mean    88824.441 1349243636.726      38.537     -90.226       0.006  \n",
       "std    301956.361   12841278.423       5.110      13.771       0.076  \n",
       "min        23.000 1325376018.000      19.028    -166.671       0.000  \n",
       "25%       743.000 1338750742.500      34.734     -96.897       0.000  \n",
       "50%      2456.000 1349249747.000      39.366     -87.438       0.000  \n",
       "75%     20328.000 1359385375.500      41.957     -80.237       0.000  \n",
       "max   2906700.000 1371816817.000      67.510     -66.951       1.000  "
      ]
     },
     "execution_count": 7,
     "metadata": {},
     "output_type": "execute_result"
    }
   ],
   "source": [
    "train.describe()"
   ]
  },
  {
   "cell_type": "code",
   "execution_count": 8,
   "id": "c084bfa4",
   "metadata": {},
   "outputs": [
    {
     "data": {
      "text/plain": [
       "trans_date_trans_time    0\n",
       "cc_num                   0\n",
       "merchant                 0\n",
       "category                 0\n",
       "amt                      0\n",
       "first                    0\n",
       "last                     0\n",
       "gender                   0\n",
       "street                   0\n",
       "city                     0\n",
       "state                    0\n",
       "zip                      0\n",
       "lat                      0\n",
       "long                     0\n",
       "city_pop                 0\n",
       "job                      0\n",
       "dob                      0\n",
       "trans_num                0\n",
       "unix_time                0\n",
       "merch_lat                0\n",
       "merch_long               0\n",
       "is_fraud                 0\n",
       "dtype: int64"
      ]
     },
     "execution_count": 8,
     "metadata": {},
     "output_type": "execute_result"
    }
   ],
   "source": [
    "train.isnull().sum()"
   ]
  },
  {
   "cell_type": "code",
   "execution_count": 9,
   "id": "252672a0",
   "metadata": {},
   "outputs": [
    {
     "data": {
      "text/html": [
       "<div>\n",
       "<style scoped>\n",
       "    .dataframe tbody tr th:only-of-type {\n",
       "        vertical-align: middle;\n",
       "    }\n",
       "\n",
       "    .dataframe tbody tr th {\n",
       "        vertical-align: top;\n",
       "    }\n",
       "\n",
       "    .dataframe thead th {\n",
       "        text-align: right;\n",
       "    }\n",
       "</style>\n",
       "<table border=\"1\" class=\"dataframe\">\n",
       "  <thead>\n",
       "    <tr style=\"text-align: right;\">\n",
       "      <th></th>\n",
       "      <th>trans_date_trans_time</th>\n",
       "      <th>cc_num</th>\n",
       "      <th>merchant</th>\n",
       "      <th>category</th>\n",
       "      <th>amt</th>\n",
       "      <th>first</th>\n",
       "      <th>last</th>\n",
       "      <th>gender</th>\n",
       "      <th>street</th>\n",
       "      <th>city</th>\n",
       "      <th>...</th>\n",
       "      <th>lat</th>\n",
       "      <th>long</th>\n",
       "      <th>city_pop</th>\n",
       "      <th>job</th>\n",
       "      <th>dob</th>\n",
       "      <th>trans_num</th>\n",
       "      <th>unix_time</th>\n",
       "      <th>merch_lat</th>\n",
       "      <th>merch_long</th>\n",
       "      <th>is_fraud</th>\n",
       "    </tr>\n",
       "  </thead>\n",
       "  <tbody>\n",
       "  </tbody>\n",
       "</table>\n",
       "<p>0 rows × 22 columns</p>\n",
       "</div>"
      ],
      "text/plain": [
       "Empty DataFrame\n",
       "Columns: [trans_date_trans_time, cc_num, merchant, category, amt, first, last, gender, street, city, state, zip, lat, long, city_pop, job, dob, trans_num, unix_time, merch_lat, merch_long, is_fraud]\n",
       "Index: []\n",
       "\n",
       "[0 rows x 22 columns]"
      ]
     },
     "execution_count": 9,
     "metadata": {},
     "output_type": "execute_result"
    }
   ],
   "source": [
    "train[train.duplicated()]"
   ]
  },
  {
   "cell_type": "code",
   "execution_count": 10,
   "id": "7cc7443d",
   "metadata": {},
   "outputs": [
    {
     "data": {
      "text/plain": [
       "<AxesSubplot:>"
      ]
     },
     "execution_count": 10,
     "metadata": {},
     "output_type": "execute_result"
    },
    {
     "data": {
      "image/png": "[encoded data removed]",
      "text/plain": [
       "<Figure size 864x576 with 2 Axes>"
      ]
     },
     "metadata": {
      "needs_background": "light"
     },
     "output_type": "display_data"
    }
   ],
   "source": [
    "sns.heatmap(train.corr(),annot=True,cmap='plasma',vmin=-1,vmax=1)"
   ]
  },
  {
   "cell_type": "code",
   "execution_count": 11,
   "id": "4bce82c6",
   "metadata": {},
   "outputs": [],
   "source": [
    "train.drop(['first','last','street','trans_num'],axis=1,inplace=True)"
   ]
  },
  {
   "cell_type": "code",
   "execution_count": 12,
   "id": "88090482",
   "metadata": {},
   "outputs": [],
   "source": [
    "train['gender'].replace('F',0,inplace=True)\n",
    "train['gender'].replace('M',1,inplace=True)\n",
    "train['gender'] = train['gender'].astype(int)"
   ]
  },
  {
   "cell_type": "code",
   "execution_count": 13,
   "id": "acbc9de2",
   "metadata": {},
   "outputs": [
    {
     "name": "stdout",
     "output_type": "stream",
     "text": [
      "trans_date_trans_time 1274791\n",
      "cc_num 983\n",
      "merchant 693\n",
      "category 14\n",
      "amt 52928\n",
      "gender 2\n",
      "city 894\n",
      "state 51\n",
      "zip 970\n",
      "lat 968\n",
      "long 969\n",
      "city_pop 879\n",
      "job 494\n",
      "dob 968\n",
      "unix_time 1274823\n",
      "merch_lat 1247805\n",
      "merch_long 1275745\n",
      "is_fraud 2\n"
     ]
    }
   ],
   "source": [
    "for col in train.columns:\n",
    "    print(col,train[col].nunique())"
   ]
  },
  {
   "cell_type": "code",
   "execution_count": 14,
   "id": "daf19ae7",
   "metadata": {},
   "outputs": [],
   "source": [
    "train['trans_date_trans_time'] = pd.to_datetime(train['trans_date_trans_time'])"
   ]
  },
  {
   "cell_type": "code",
   "execution_count": 15,
   "id": "095f7ae1",
   "metadata": {},
   "outputs": [],
   "source": [
    "train['trans_date_trans_time'] = train['trans_date_trans_time'].apply(lambda x: x.timestamp())\n",
    "train['trans_date_trans_time'] = train['trans_date_trans_time'].astype(float)"
   ]
  },
  {
   "cell_type": "code",
   "execution_count": 16,
   "id": "206882d2",
   "metadata": {},
   "outputs": [],
   "source": [
    "categories = pd.get_dummies(train['category'],drop_first=True)\n",
    "train = pd.concat([train,categories],axis=1)\n",
    "train.drop('category',axis=1,inplace=True)"
   ]
  },
  {
   "cell_type": "code",
   "execution_count": 17,
   "id": "2aaab68a",
   "metadata": {},
   "outputs": [],
   "source": [
    "train.drop(['city','dob','zip'],axis=1,inplace=True)"
   ]
  },
  {
   "cell_type": "code",
   "execution_count": 18,
   "id": "4bf5dd03",
   "metadata": {},
   "outputs": [],
   "source": [
    "train['food_dining'] = train['food_dining'].astype(int)\n",
    "train['gas_transport'] = train['gas_transport'].astype(int)\n",
    "train['grocery_net'] = train['grocery_net'].astype(int)\n",
    "train['grocery_pos'] = train['grocery_pos'].astype(int)\n",
    "train['health_fitness'] = train['health_fitness'].astype(int)\n",
    "train['home'] = train['home'].astype(int)\n",
    "train['kids_pets'] = train['kids_pets'].astype(int)\n",
    "train['misc_net'] = train['misc_net'].astype(int)\n",
    "train['misc_pos'] = train['misc_pos'].astype(int)\n",
    "train['personal_care'] = train['personal_care'].astype(int)\n",
    "train['shopping_net'] = train['shopping_net'].astype(int)\n",
    "train['shopping_pos'] = train['shopping_pos'].astype(int)\n",
    "train['travel'] = train['travel'].astype(int)"
   ]
  },
  {
   "cell_type": "code",
   "execution_count": 19,
   "id": "02403938",
   "metadata": {},
   "outputs": [],
   "source": [
    "# train['merchant'] = LabelEncoder().fit_transform(train['merchant'])\n",
    "# train['state'] = LabelEncoder().fit_transform(train['state'])\n",
    "# train['job'] = LabelEncoder().fit_transform(train['job'])\n",
    "train.drop(['merchant','state','job'],axis=1,inplace=True)"
   ]
  },
  {
   "cell_type": "code",
   "execution_count": 20,
   "id": "4d963f13",
   "metadata": {},
   "outputs": [
    {
     "data": {
      "text/plain": [
       "<AxesSubplot:xlabel='is_fraud', ylabel='count'>"
      ]
     },
     "execution_count": 20,
     "metadata": {},
     "output_type": "execute_result"
    },
    {
     "data": {
      "image/png": "[encoded data removed]",
      "text/plain": [
       "<Figure size 864x576 with 1 Axes>"
      ]
     },
     "metadata": {
      "needs_background": "light"
     },
     "output_type": "display_data"
    }
   ],
   "source": [
    "sns.countplot(train['is_fraud'])"
   ]
  },
  {
   "cell_type": "code",
   "execution_count": 21,
   "id": "f632f8d1",
   "metadata": {},
   "outputs": [],
   "source": [
    "X = train.drop('is_fraud',axis=1)\n",
    "y = train['is_fraud']"
   ]
  },
  {
   "cell_type": "code",
   "execution_count": 22,
   "id": "b9d9ce24",
   "metadata": {},
   "outputs": [],
   "source": [
    "ros = RandomOverSampler()\n",
    "X,y = ros.fit_resample(X,y)"
   ]
  },
  {
   "cell_type": "code",
   "execution_count": 23,
   "id": "e0f687c3",
   "metadata": {},
   "outputs": [
    {
     "data": {
      "text/plain": [
       "<AxesSubplot:xlabel='is_fraud', ylabel='count'>"
      ]
     },
     "execution_count": 23,
     "metadata": {},
     "output_type": "execute_result"
    },
    {
     "data": {
      "image/png": "[encoded data removed]",
      "text/plain": [
       "<Figure size 864x576 with 1 Axes>"
      ]
     },
     "metadata": {
      "needs_background": "light"
     },
     "output_type": "display_data"
    }
   ],
   "source": [
    "sns.countplot(y)"
   ]
  },
  {
   "cell_type": "code",
   "execution_count": 24,
   "id": "6678179b",
   "metadata": {},
   "outputs": [
    {
     "data": {
      "text/plain": [
       "Index(['trans_date_trans_time', 'cc_num', 'amt', 'gender', 'lat', 'long',\n",
       "       'city_pop', 'unix_time', 'merch_lat', 'merch_long', 'food_dining',\n",
       "       'gas_transport', 'grocery_net', 'grocery_pos', 'health_fitness', 'home',\n",
       "       'kids_pets', 'misc_net', 'misc_pos', 'personal_care', 'shopping_net',\n",
       "       'shopping_pos', 'travel'],\n",
       "      dtype='object')"
      ]
     },
     "execution_count": 24,
     "metadata": {},
     "output_type": "execute_result"
    }
   ],
   "source": [
    "X.columns"
   ]
  },
  {
   "cell_type": "code",
   "execution_count": 25,
   "id": "c7bb77c1",
   "metadata": {},
   "outputs": [],
   "source": [
    "X.drop(['trans_date_trans_time','unix_time'],axis=1,inplace=True)"
   ]
  },
  {
   "cell_type": "code",
   "execution_count": 26,
   "id": "eccb0901",
   "metadata": {},
   "outputs": [],
   "source": [
    "X_train, X_test, y_train, y_test = train_test_split(X,y)"
   ]
  },
  {
   "cell_type": "code",
   "execution_count": 27,
   "id": "b80347a8",
   "metadata": {},
   "outputs": [
    {
     "data": {
      "text/plain": [
       "Index(['cc_num', 'amt', 'gender', 'lat', 'long', 'city_pop', 'merch_lat',\n",
       "       'merch_long', 'food_dining', 'gas_transport', 'grocery_net',\n",
       "       'grocery_pos', 'health_fitness', 'home', 'kids_pets', 'misc_net',\n",
       "       'misc_pos', 'personal_care', 'shopping_net', 'shopping_pos', 'travel'],\n",
       "      dtype='object')"
      ]
     },
     "execution_count": 27,
     "metadata": {},
     "output_type": "execute_result"
    }
   ],
   "source": [
    "X_train.columns"
   ]
  },
  {
   "cell_type": "code",
   "execution_count": 28,
   "id": "466836c4",
   "metadata": {},
   "outputs": [
    {
     "data": {
      "text/plain": [
       "DecisionTreeClassifier()"
      ]
     },
     "execution_count": 28,
     "metadata": {},
     "output_type": "execute_result"
    }
   ],
   "source": [
    "dtree = DecisionTreeClassifier()\n",
    "dtree.fit(X_train,y_train)"
   ]
  },
  {
   "cell_type": "code",
   "execution_count": 29,
   "id": "6a0eb565",
   "metadata": {},
   "outputs": [
    {
     "data": {
      "text/plain": [
       "array([1, 0, 1, ..., 1, 0, 1], dtype=int64)"
      ]
     },
     "execution_count": 29,
     "metadata": {},
     "output_type": "execute_result"
    }
   ],
   "source": [
    "dtree_pred = dtree.predict(X_test)\n",
    "dtree_pred"
   ]
  },
  {
   "cell_type": "code",
   "execution_count": 33,
   "id": "6f020b2f",
   "metadata": {},
   "outputs": [
    {
     "data": {
      "text/html": [
       "<div>\n",
       "<style scoped>\n",
       "    .dataframe tbody tr th:only-of-type {\n",
       "        vertical-align: middle;\n",
       "    }\n",
       "\n",
       "    .dataframe tbody tr th {\n",
       "        vertical-align: top;\n",
       "    }\n",
       "\n",
       "    .dataframe thead th {\n",
       "        text-align: right;\n",
       "    }\n",
       "</style>\n",
       "<table border=\"1\" class=\"dataframe\">\n",
       "  <thead>\n",
       "    <tr style=\"text-align: right;\">\n",
       "      <th></th>\n",
       "      <th>cc_num</th>\n",
       "      <th>amt</th>\n",
       "      <th>gender</th>\n",
       "      <th>lat</th>\n",
       "      <th>long</th>\n",
       "      <th>city_pop</th>\n",
       "      <th>merch_lat</th>\n",
       "      <th>merch_long</th>\n",
       "      <th>food_dining</th>\n",
       "      <th>gas_transport</th>\n",
       "      <th>...</th>\n",
       "      <th>grocery_pos</th>\n",
       "      <th>health_fitness</th>\n",
       "      <th>home</th>\n",
       "      <th>kids_pets</th>\n",
       "      <th>misc_net</th>\n",
       "      <th>misc_pos</th>\n",
       "      <th>personal_care</th>\n",
       "      <th>shopping_net</th>\n",
       "      <th>shopping_pos</th>\n",
       "      <th>travel</th>\n",
       "    </tr>\n",
       "  </thead>\n",
       "  <tbody>\n",
       "    <tr>\n",
       "      <th>806591</th>\n",
       "      <td>378278619832195</td>\n",
       "      <td>9.270</td>\n",
       "      <td>0</td>\n",
       "      <td>44.038</td>\n",
       "      <td>-123.061</td>\n",
       "      <td>191096</td>\n",
       "      <td>44.879</td>\n",
       "      <td>-122.705</td>\n",
       "      <td>0</td>\n",
       "      <td>0</td>\n",
       "      <td>...</td>\n",
       "      <td>0</td>\n",
       "      <td>0</td>\n",
       "      <td>0</td>\n",
       "      <td>0</td>\n",
       "      <td>1</td>\n",
       "      <td>0</td>\n",
       "      <td>0</td>\n",
       "      <td>0</td>\n",
       "      <td>0</td>\n",
       "      <td>0</td>\n",
       "    </tr>\n",
       "    <tr>\n",
       "      <th>924753</th>\n",
       "      <td>4503101193493052928</td>\n",
       "      <td>2.920</td>\n",
       "      <td>0</td>\n",
       "      <td>27.986</td>\n",
       "      <td>-82.014</td>\n",
       "      <td>237282</td>\n",
       "      <td>28.272</td>\n",
       "      <td>-81.784</td>\n",
       "      <td>0</td>\n",
       "      <td>0</td>\n",
       "      <td>...</td>\n",
       "      <td>0</td>\n",
       "      <td>0</td>\n",
       "      <td>0</td>\n",
       "      <td>1</td>\n",
       "      <td>0</td>\n",
       "      <td>0</td>\n",
       "      <td>0</td>\n",
       "      <td>0</td>\n",
       "      <td>0</td>\n",
       "      <td>0</td>\n",
       "    </tr>\n",
       "    <tr>\n",
       "      <th>1124747</th>\n",
       "      <td>4745996322265</td>\n",
       "      <td>137.560</td>\n",
       "      <td>0</td>\n",
       "      <td>41.480</td>\n",
       "      <td>-86.692</td>\n",
       "      <td>1423</td>\n",
       "      <td>41.059</td>\n",
       "      <td>-87.210</td>\n",
       "      <td>0</td>\n",
       "      <td>0</td>\n",
       "      <td>...</td>\n",
       "      <td>0</td>\n",
       "      <td>0</td>\n",
       "      <td>0</td>\n",
       "      <td>0</td>\n",
       "      <td>1</td>\n",
       "      <td>0</td>\n",
       "      <td>0</td>\n",
       "      <td>0</td>\n",
       "      <td>0</td>\n",
       "      <td>0</td>\n",
       "    </tr>\n",
       "    <tr>\n",
       "      <th>2358428</th>\n",
       "      <td>3541160328600277</td>\n",
       "      <td>1064.530</td>\n",
       "      <td>1</td>\n",
       "      <td>39.572</td>\n",
       "      <td>-90.238</td>\n",
       "      <td>1512</td>\n",
       "      <td>39.277</td>\n",
       "      <td>-90.523</td>\n",
       "      <td>0</td>\n",
       "      <td>0</td>\n",
       "      <td>...</td>\n",
       "      <td>0</td>\n",
       "      <td>0</td>\n",
       "      <td>0</td>\n",
       "      <td>0</td>\n",
       "      <td>0</td>\n",
       "      <td>0</td>\n",
       "      <td>0</td>\n",
       "      <td>1</td>\n",
       "      <td>0</td>\n",
       "      <td>0</td>\n",
       "    </tr>\n",
       "    <tr>\n",
       "      <th>1635946</th>\n",
       "      <td>213174467670432</td>\n",
       "      <td>339.860</td>\n",
       "      <td>1</td>\n",
       "      <td>39.401</td>\n",
       "      <td>-75.865</td>\n",
       "      <td>663</td>\n",
       "      <td>39.616</td>\n",
       "      <td>-76.716</td>\n",
       "      <td>0</td>\n",
       "      <td>0</td>\n",
       "      <td>...</td>\n",
       "      <td>1</td>\n",
       "      <td>0</td>\n",
       "      <td>0</td>\n",
       "      <td>0</td>\n",
       "      <td>0</td>\n",
       "      <td>0</td>\n",
       "      <td>0</td>\n",
       "      <td>0</td>\n",
       "      <td>0</td>\n",
       "      <td>0</td>\n",
       "    </tr>\n",
       "  </tbody>\n",
       "</table>\n",
       "<p>5 rows × 21 columns</p>\n",
       "</div>"
      ],
      "text/plain": [
       "                      cc_num      amt  gender    lat     long  city_pop  \\\n",
       "806591       378278619832195    9.270       0 44.038 -123.061    191096   \n",
       "924753   4503101193493052928    2.920       0 27.986  -82.014    237282   \n",
       "1124747        4745996322265  137.560       0 41.480  -86.692      1423   \n",
       "2358428     3541160328600277 1064.530       1 39.572  -90.238      1512   \n",
       "1635946      213174467670432  339.860       1 39.401  -75.865       663   \n",
       "\n",
       "         merch_lat  merch_long  food_dining  gas_transport  ...  grocery_pos  \\\n",
       "806591      44.879    -122.705            0              0  ...            0   \n",
       "924753      28.272     -81.784            0              0  ...            0   \n",
       "1124747     41.059     -87.210            0              0  ...            0   \n",
       "2358428     39.277     -90.523            0              0  ...            0   \n",
       "1635946     39.616     -76.716            0              0  ...            1   \n",
       "\n",
       "         health_fitness  home  kids_pets  misc_net  misc_pos  personal_care  \\\n",
       "806591                0     0          0         1         0              0   \n",
       "924753                0     0          1         0         0              0   \n",
       "1124747               0     0          0         1         0              0   \n",
       "2358428               0     0          0         0         0              0   \n",
       "1635946               0     0          0         0         0              0   \n",
       "\n",
       "         shopping_net  shopping_pos  travel  \n",
       "806591              0             0       0  \n",
       "924753              0             0       0  \n",
       "1124747             0             0       0  \n",
       "2358428             1             0       0  \n",
       "1635946             0             0       0  \n",
       "\n",
       "[5 rows x 21 columns]"
      ]
     },
     "execution_count": 33,
     "metadata": {},
     "output_type": "execute_result"
    }
   ],
   "source": [
    "X_train.head()"
   ]
  },
  {
   "cell_type": "code",
   "execution_count": 30,
   "id": "069f954f",
   "metadata": {},
   "outputs": [
    {
     "name": "stdout",
     "output_type": "stream",
     "text": [
      "[[320950    724]\n",
      " [     0 322911]]\n",
      "              precision    recall  f1-score   support\n",
      "\n",
      "           0       1.00      1.00      1.00    321674\n",
      "           1       1.00      1.00      1.00    322911\n",
      "\n",
      "    accuracy                           1.00    644585\n",
      "   macro avg       1.00      1.00      1.00    644585\n",
      "weighted avg       1.00      1.00      1.00    644585\n",
      "\n"
     ]
    }
   ],
   "source": [
    "print(metrics.confusion_matrix(y_test,dtree_pred))\n",
    "print(metrics.classification_report(y_test,dtree_pred))"
   ]
  },
  {
   "cell_type": "code",
   "execution_count": 31,
   "id": "8760539f",
   "metadata": {},
   "outputs": [
    {
     "data": {
      "text/plain": [
       "['model.pkl']"
      ]
     },
     "execution_count": 31,
     "metadata": {},
     "output_type": "execute_result"
    }
   ],
   "source": [
    "joblib.dump(dtree,'model.pkl')"
   ]
  }
 ],
 "metadata": {
  "kernelspec": {
   "display_name": "Python 3 (ipykernel)",
   "language": "python",
   "name": "python3"
  },
  "language_info": {
   "codemirror_mode": {
    "name": "ipython",
    "version": 3
   },
   "file_extension": ".py",
   "mimetype": "text/x-python",
   "name": "python",
   "nbconvert_exporter": "python",
   "pygments_lexer": "ipython3",
   "version": "3.8.8"
  }
 },
 "nbformat": 4,
 "nbformat_minor": 5
}
